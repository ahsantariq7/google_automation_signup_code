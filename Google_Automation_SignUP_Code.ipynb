{
 "cells": [
  {
   "cell_type": "code",
   "execution_count": 1,
   "id": "e4691c86-dd5c-423c-a582-4391601b9f81",
   "metadata": {},
   "outputs": [],
   "source": [
    "from selenium import webdriver\n",
    "from selenium.webdriver.firefox.service import Service as FirefoxService\n",
    "from webdriver_manager.firefox import GeckoDriverManager\n",
    "from selenium.webdriver.common.by import By\n",
    "import time"
   ]
  },
  {
   "cell_type": "code",
   "execution_count": 2,
   "id": "b49d70c5-2a46-4e5c-8afa-a7afbfd89d79",
   "metadata": {},
   "outputs": [
    {
     "name": "stderr",
     "output_type": "stream",
     "text": [
      "/tmp/ipykernel_11048/1528415405.py:1: DeprecationWarning: Firefox will soon stop logging to geckodriver.log by default; Specify desired logs with log_output\n",
      "  driver = webdriver.Firefox(service=FirefoxService(GeckoDriverManager().install()))\n"
     ]
    }
   ],
   "source": [
    "driver = webdriver.Firefox(service=FirefoxService(GeckoDriverManager().install()))\n",
    "driver.get(\"https://accounts.google.com/v3/signin/identifier?authuser=0&continue=https%3A%2F%2Fwww.google.com%2F&ec=GAlAmgQ&hl=en&flowName=GlifWebSignIn&flowEntry=AddSession&dsh=S-1878885933%3A1693877324430190&theme=glif\")"
   ]
  },
  {
   "cell_type": "code",
   "execution_count": 3,
   "id": "c81e2cde-6194-4030-80ad-598393fb74ce",
   "metadata": {},
   "outputs": [],
   "source": [
    "create_account=driver.find_element(By.CLASS_NAME,'VfPpkd-LgbsSe.VfPpkd-LgbsSe-OWXEXe-dgl2Hf.ksBjEc.lKxP2d.LQeN7.FliLIb.uRo0Xe.TrZEUc.Xf9GD')\n",
    "create_account.click()"
   ]
  },
  {
   "cell_type": "code",
   "execution_count": 4,
   "id": "af74c490-0ef6-4280-8f4e-d59aad34d06f",
   "metadata": {},
   "outputs": [],
   "source": [
    "pers_use=driver.find_element(By.CLASS_NAME,'G3hhxb.VfPpkd-StrnGf-rymPhb-ibnC6b')\n",
    "pers_use.click()                         "
   ]
  },
  {
   "cell_type": "code",
   "execution_count": 5,
   "id": "ad56626f-0770-45db-9b00-540cec7bf389",
   "metadata": {},
   "outputs": [],
   "source": [
    "first_name=driver.find_element(By.XPATH,'//*[@id=\"firstName\"]')\n",
    "first_name.send_keys(\"Genious\")\n",
    "last_name=driver.find_element(By.XPATH,'//*[@id=\"lastName\"]')\n",
    "last_name.send_keys('Mind')\n",
    "next=driver.find_element(By.XPATH,'/html/body/div[1]/div[1]/div[2]/div/div[2]/div/div/div[2]/div/div[2]/div/div/div/div/button')\n",
    "next.click()\n",
    "time.sleep(3)"
   ]
  },
  {
   "cell_type": "code",
   "execution_count": 7,
   "id": "ac4fc7af-c1dd-4058-a9b6-b3f7fb50c03e",
   "metadata": {},
   "outputs": [],
   "source": [
    "select_month=driver.find_element(By.CLASS_NAME,'UDCCJb')\n",
    "select_month.click()\n",
    "select_month.send_keys(\"August\")\n",
    "\n",
    "day=driver.find_element(By.XPATH,'//*[@id=\"day\"]')\n",
    "day.send_keys('23')\n",
    "\n",
    "year=driver.find_element(By.XPATH,'//*[@id=\"year\"]')\n",
    "year.send_keys('1990')\n",
    "\n",
    "gender=driver.find_element(By.XPATH,'//*[@id=\"gender\"]')\n",
    "gender.click()\n",
    "gender.send_keys(\"male\")\n",
    "\n",
    "next=driver.find_element(By.XPATH,'/html/body/div[1]/div[1]/div[2]/div/div[2]/div/div/div[2]/div/div[2]/div/div/div/div/button')\n",
    "next.click()\n",
    "\n",
    "time.sleep(3)"
   ]
  },
  {
   "cell_type": "code",
   "execution_count": 8,
   "id": "3926ada8-9a79-4413-8db9-be95aa97b535",
   "metadata": {},
   "outputs": [],
   "source": [
    "create_own=driver.find_element(By.XPATH,'/html/body/div[1]/div[1]/div[2]/div/div[2]/div/div/div[2]/div/div[1]/div/form/span/section/div/div/div[1]/div[1]/div/span/div[3]/div/div[1]/div/div[3]/div')\n",
    "create_own.click()\n",
    "\n",
    "gmail=driver.find_element(By.XPATH,'/html/body/div[1]/div[1]/div[2]/div/div[2]/div/div/div[2]/div/div[1]/div/form/span/section/div/div/div[2]/div[1]/div/div[1]/div/div[1]/input')\n",
    "gmail.clear()\n",
    "gmail.send_keys('asimzubair9808988')\n",
    "\n",
    "next=driver.find_element(By.XPATH,'/html/body/div[1]/div[1]/div[2]/div/div[2]/div/div/div[2]/div/div[2]/div/div[1]/div/div/button')\n",
    "next.click()\n",
    "\n",
    "time.sleep(2)"
   ]
  },
  {
   "cell_type": "code",
   "execution_count": 9,
   "id": "ee693d5c-7fc7-42e2-8977-5ae576591587",
   "metadata": {},
   "outputs": [],
   "source": [
    "create_password=driver.find_element(By.XPATH,'/html/body/div[1]/div[1]/div[2]/div/div[2]/div/div/div[2]/div/div[1]/div/form/span/section/div/div/div/div[1]/div/div/div[1]/div/div[1]/div/div[1]/input')\n",
    "create_password.send_keys(\"G=98Hh6/\")\n",
    "\n",
    "confirm_password=driver.find_element(By.XPATH,'/html/body/div[1]/div[1]/div[2]/div/div[2]/div/div/div[2]/div/div[1]/div/form/span/section/div/div/div/div[1]/div/div/div[2]/div/div[1]/div/div[1]/input')\n",
    "confirm_password.send_keys(\"G=98Hh6/\")\n",
    "\n",
    "next=driver.find_element(By.XPATH,'/html/body/div[1]/div[1]/div[2]/div/div[2]/div/div/div[2]/div/div[2]/div/div/div/div/button')\n",
    "next.click()\n",
    "\n",
    "time.sleep(2)"
   ]
  },
  {
   "cell_type": "code",
   "execution_count": 10,
   "id": "2eefa50a-bea9-441e-a223-f42157a41068",
   "metadata": {},
   "outputs": [],
   "source": [
    "phone_number=driver.find_element(By.XPATH,'//*[@id=\"phoneNumberId\"]')\n",
    "phone_number.clear()\n",
    "phone_number.send_keys('+212682833831')\n",
    "\n",
    "next=driver.find_element(By.XPATH,'/html/body/div[1]/div[1]/div[2]/div/div[2]/div/div/div[2]/div/div[2]/div/div/div/div/button')\n",
    "next.click()"
   ]
  },
  {
   "cell_type": "code",
   "execution_count": null,
   "id": "4783c88b-9bf0-4cef-bfe0-03716f62c082",
   "metadata": {},
   "outputs": [],
   "source": []
  }
 ],
 "metadata": {
  "kernelspec": {
   "display_name": "Python 3 (ipykernel)",
   "language": "python",
   "name": "python3"
  },
  "language_info": {
   "codemirror_mode": {
    "name": "ipython",
    "version": 3
   },
   "file_extension": ".py",
   "mimetype": "text/x-python",
   "name": "python",
   "nbconvert_exporter": "python",
   "pygments_lexer": "ipython3",
   "version": "3.11.2"
  },
  "widgets": {
   "application/vnd.jupyter.widget-state+json": {
    "state": {},
    "version_major": 2,
    "version_minor": 0
   }
  }
 },
 "nbformat": 4,
 "nbformat_minor": 5
}
